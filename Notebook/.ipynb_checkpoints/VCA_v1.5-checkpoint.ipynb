{
 "cells": [
  {
   "cell_type": "code",
   "execution_count": 7,
   "metadata": {
    "collapsed": false
   },
   "outputs": [],
   "source": [
    "#%matplotlib inline"
   ]
  },
  {
   "cell_type": "code",
   "execution_count": 3,
   "metadata": {
    "collapsed": false
   },
   "outputs": [
    {
     "name": "stderr",
     "output_type": "stream",
     "text": [
      "/Users/vadim/anaconda/lib/python2.7/site-packages/IPython/nbformat/current.py:19: UserWarning: IPython.nbformat.current is deprecated.\n",
      "\n",
      "- use IPython.nbformat for read/write/validate public API\n",
      "- use IPython.nbformat.vX directly to composing notebooks of a particular version\n",
      "\n",
      "  \"\"\")\n"
     ]
    }
   ],
   "source": [
    "from scipy.linalg import pinv\n",
    "import matplotlib.pyplot as plt\n",
    "import hyperspy.hspy as hs\n",
    "import os\n",
    "import ercpy.utils as ut\n",
    "import ercpy.eelsedx as eels"
   ]
  },
  {
   "cell_type": "code",
   "execution_count": null,
   "metadata": {
    "collapsed": true
   },
   "outputs": [],
   "source": [
    "hs."
   ]
  },
  {
   "cell_type": "code",
   "execution_count": 4,
   "metadata": {
    "collapsed": false
   },
   "outputs": [],
   "source": [
    "path=\"/home/\""
   ]
  },
  {
   "cell_type": "code",
   "execution_count": 11,
   "metadata": {
    "collapsed": false
   },
   "outputs": [],
   "source": [
    "#file_name=\"EELS Spectrum Image (low-loss).dm3\"\n",
    "specImg_cl = hs.load(path)"
   ]
  },
  {
   "cell_type": "code",
   "execution_count": 3,
   "metadata": {
    "collapsed": false
   },
   "outputs": [],
   "source": [
    "file_name=\"EELS Spectrum Image (high-loss) (dark ref corrected).dm3\"\n",
    "specImg_cl = hs.load(path+file_name)"
   ]
  },
  {
   "cell_type": "code",
   "execution_count": 9,
   "metadata": {
    "collapsed": false
   },
   "outputs": [],
   "source": [
    "img = hs.load(path+\"/DF.dm3\")\n",
    "dim = img.axes_manager.shape\n",
    "imgBin = img.rebin((dim[0],dim[1]))"
   ]
  },
  {
   "cell_type": "code",
   "execution_count": 8,
   "metadata": {
    "collapsed": false
   },
   "outputs": [],
   "source": [
    "specImg_ll.plot(navigator=imgBin)"
   ]
  },
  {
   "cell_type": "code",
   "execution_count": 89,
   "metadata": {
    "collapsed": false
   },
   "outputs": [],
   "source": [
    "specImg_ll.align_zero_loss_peak(also_align=[specImg_cl], subpixel=True, print_stats=None)"
   ]
  },
  {
   "cell_type": "code",
   "execution_count": 9,
   "metadata": {
    "collapsed": false
   },
   "outputs": [],
   "source": [
    "specImg_cl.spikes_removal_tool()"
   ]
  },
  {
   "cell_type": "code",
   "execution_count": 16,
   "metadata": {
    "collapsed": false
   },
   "outputs": [],
   "source": [
    "#Crop your data in the eV range on which you want to perform the VCA decomposition\n",
    "#If you enter float, it will be interpreted as eV, if you enter integer, it will be interpreted as pixel position\n",
    "specImg_cl.crop_spectrum(1.,2.)"
   ]
  },
  {
   "cell_type": "code",
   "execution_count": 8,
   "metadata": {
    "collapsed": false
   },
   "outputs": [],
   "source": [
    "#Create a new folder to store your data\n",
    "vca_folder = path+\"vca_folder\"\n",
    "if not os.path.exists(vca_folder): os.makedirs(vca_folder)"
   ]
  },
  {
   "cell_type": "markdown",
   "metadata": {},
   "source": [
    "#### Estimation of the number of components you should keep (or the dimension of the subspace for the projection of the data)"
   ]
  },
  {
   "cell_type": "code",
   "execution_count": 10,
   "metadata": {
    "collapsed": false
   },
   "outputs": [],
   "source": [
    "specImg_cl.decomposition('svd', center_matrix=\"variables\")"
   ]
  },
  {
   "cell_type": "code",
   "execution_count": 5,
   "metadata": {
    "collapsed": false
   },
   "outputs": [],
   "source": [
    "#Remove negative values of the data\n",
    "specImg_cl.data[specImg_cl.data < 0.] = 0."
   ]
  },
  {
   "cell_type": "code",
   "execution_count": 17,
   "metadata": {
    "collapsed": false
   },
   "outputs": [],
   "source": [
    "#You can use the following function to get an idea how many dimensions you should keep on the subspace\n",
    "nbr_compo=eels.Nbr_compotokeep(specImg_cl, 99.95)"
   ]
  },
  {
   "cell_type": "code",
   "execution_count": 18,
   "metadata": {
    "collapsed": false
   },
   "outputs": [],
   "source": [
    "#Or define it by looking at the screeplot (variance)\n",
    "specImg_cl.plot_explained_variance_ratio()"
   ]
  },
  {
   "cell_type": "code",
   "execution_count": 14,
   "metadata": {
    "collapsed": false
   },
   "outputs": [],
   "source": [
    "nbr_compo=4"
   ]
  },
  {
   "cell_type": "markdown",
   "metadata": {},
   "source": [
    "#### VCA Decomposition"
   ]
  },
  {
   "cell_type": "code",
   "execution_count": 17,
   "metadata": {
    "collapsed": false
   },
   "outputs": [],
   "source": [
    "Ae=eels.VCA_decomposition(specImg_cl, nbr_compo, True, True, True)"
   ]
  },
  {
   "cell_type": "markdown",
   "metadata": {},
   "source": [
    "##### Plot and save Abundance maps / linescan"
   ]
  },
  {
   "cell_type": "code",
   "execution_count": 37,
   "metadata": {
    "collapsed": false
   },
   "outputs": [],
   "source": [
    "if np.size(specImg_cl.data.shape)==3:\n",
    "    Ae3D = Ae.reshape(specImg_cl.data.shape[0],specImg_cl.data.shape[1],nbr_compo)\n",
    "    i = 0\n",
    "    while i<nbr_compo:\n",
    "        fig, ax = plt.subplots()\n",
    "        im = ax.imshow(Ae3D[:,:,i], vmin=abs(Ae3D[:,:,i]).min(), vmax=abs(Ae3D[:,:,i]).max()) #cmap=cm.RdBu, \n",
    "        im.set_interpolation('bilinear')\n",
    "        cb = fig.colorbar(im, ax=ax)\n",
    "        fig.savefig(path+'abundance_'+str(nbr_compo)+'_'+str(i)+'.png')\n",
    "        i += 1\n",
    "    \n",
    "    #Save the maps in a rpl file to be imported back in DM for example\n",
    "    Ae3D_maps = specImg_cl.deepcopy()\n",
    "    Ae3D_maps.crop(2,0,nbr_compo)\n",
    "    Ae3D_maps.data=Ae3D\n",
    "    Ae3D_maps.save(\"abundance_maps_\"+str(nbr_compo)+\"_compo.rpl\")"
   ]
  },
  {
   "cell_type": "code",
   "execution_count": 32,
   "metadata": {
    "collapsed": false
   },
   "outputs": [],
   "source": [
    "if np.size(specImg_cl.data.shape)==2:\n",
    "    i = 0\n",
    "    X_scale = np.empty(Ae[:,0].size,dtype=\"float32\")\n",
    "    w=0\n",
    "\n",
    "    scaling = 0.02\n",
    "\n",
    "    while w < Ae[:,0].size:\n",
    "        X_scale[w]=w\n",
    "        w +=1\n",
    "    \n",
    "    fig, ax = plt.subplots()\n",
    "    while i<nbr_compo:\n",
    "        plt.plot( X_scale[:], Ae[:,i]-scaling*i, linewidth=2.0, label=str(i))\n",
    "        plt.axhline(y=-scaling*i, xmin=0, xmax=1, hold=None)\n",
    "        i += 1\n",
    "\n",
    "    plt.legend( loc='upper right', numpoints = 1 )\n",
    "    plt.show()\n",
    "    savefig(path+'abundance_'+str(nbr_compo)+'.png')\n",
    "    np.savetxt(path+'abundance_'+str(nbr_compo)+'.txt', Ae)"
   ]
  },
  {
   "cell_type": "markdown",
   "metadata": {},
   "source": [
    "##### Plot and save endmembers profiles"
   ]
  },
  {
   "cell_type": "code",
   "execution_count": 62,
   "metadata": {
    "collapsed": false
   },
   "outputs": [],
   "source": [
    "s_est = np.dot(np.linalg.pinv(Ae),ut.hspy_to_2Dnp(specImg_cl))\n",
    "X_scale = np.empty(s_est[0,:].size,dtype=\"float32\")\n",
    "w=0\n",
    "\n",
    "scaling = 1\n",
    "\n",
    "while w < s_est[0,:].size:\n",
    "    X_scale[w]=w*specImg_cl.axes_manager[2].scale+specImg_cl.axes_manager[2].offset\n",
    "    w +=1\n",
    "\n",
    "i = 0\n",
    "fig = plt.figure()\n",
    "while i<nbr_compo:\n",
    "    plt.plot(X_scale[:], (s_est[i,:]-s_est[i,:].min())/(s_est[i,:].max()-s_est[i,:].min())-i*scaling, linewidth=2.0, label=str(i))\n",
    "    plt.axhline(y=-scaling*i, xmin=0, xmax=1, hold=None)\n",
    "    i = i +1\n",
    "#plt.yscale('log')\n",
    "plt.legend( loc='upper right', numpoints = 1 )\n",
    "plt.show()\n",
    "fig.savefig(path+'endmembers_'+str(nbr_compo)+'.png')\n",
    "np.savetxt(path+'endmembers_'+str(nbr_compo)+'.txt', s_est)"
   ]
  },
  {
   "cell_type": "code",
   "execution_count": null,
   "metadata": {
    "collapsed": false
   },
   "outputs": [],
   "source": []
  }
 ],
 "metadata": {
  "kernelspec": {
   "display_name": "Python 2",
   "language": "python",
   "name": "python2"
  },
  "language_info": {
   "codemirror_mode": {
    "name": "ipython",
    "version": 2
   },
   "file_extension": ".py",
   "mimetype": "text/x-python",
   "name": "python",
   "nbconvert_exporter": "python",
   "pygments_lexer": "ipython2",
   "version": "2.7.9"
  }
 },
 "nbformat": 4,
 "nbformat_minor": 0
}
