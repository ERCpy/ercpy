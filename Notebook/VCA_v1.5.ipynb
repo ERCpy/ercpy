{
 "metadata": {
  "name": "",
  "signature": "sha256:39db142405c818551af99cc57f8641c47a130763c16a8568059a5f7f1c18a0da"
 },
 "nbformat": 3,
 "nbformat_minor": 0,
 "worksheets": [
  {
   "cells": [
    {
     "cell_type": "code",
     "collapsed": false,
     "input": [
      "#%matplotlib inline"
     ],
     "language": "python",
     "metadata": {},
     "outputs": [],
     "prompt_number": 7
    },
    {
     "cell_type": "code",
     "collapsed": false,
     "input": [
      "from scipy.linalg import pinv\n",
      "import matplotlib.pyplot as plt\n",
      "import hyperspy.api as hs\n",
      "import os\n",
      "import ercpy.utils as ut\n",
      "import ercpy.eelsedx as eels"
     ],
     "language": "python",
     "metadata": {},
     "outputs": [],
     "prompt_number": 1
    },
    {
     "cell_type": "code",
     "collapsed": false,
     "input": [
      "path=\"/home/\""
     ],
     "language": "python",
     "metadata": {},
     "outputs": [],
     "prompt_number": 4
    },
    {
     "cell_type": "code",
     "collapsed": false,
     "input": [
      "#file_name=\"EELS Spectrum Image (low-loss).dm3\"\n",
      "specImg_cl = hs.load(path)"
     ],
     "language": "python",
     "metadata": {},
     "outputs": [],
     "prompt_number": 11
    },
    {
     "cell_type": "code",
     "collapsed": false,
     "input": [
      "file_name=\"EELS Spectrum Image (high-loss) (dark ref corrected).dm3\"\n",
      "specImg_cl = hs.load(path+file_name)"
     ],
     "language": "python",
     "metadata": {},
     "outputs": [],
     "prompt_number": 3
    },
    {
     "cell_type": "code",
     "collapsed": false,
     "input": [
      "img = hs.load(path+\"/DF.dm3\")\n",
      "dim = img.axes_manager.shape\n",
      "imgBin = img.rebin((dim[0],dim[1]))"
     ],
     "language": "python",
     "metadata": {},
     "outputs": [],
     "prompt_number": 9
    },
    {
     "cell_type": "code",
     "collapsed": false,
     "input": [
      "specImg_ll.plot(navigator=imgBin)"
     ],
     "language": "python",
     "metadata": {},
     "outputs": [],
     "prompt_number": 8
    },
    {
     "cell_type": "code",
     "collapsed": false,
     "input": [
      "specImg_ll.align_zero_loss_peak(also_align=[specImg_cl], subpixel=True, print_stats=None)"
     ],
     "language": "python",
     "metadata": {},
     "outputs": [],
     "prompt_number": 89
    },
    {
     "cell_type": "code",
     "collapsed": false,
     "input": [
      "specImg_cl.spikes_removal_tool()"
     ],
     "language": "python",
     "metadata": {},
     "outputs": [],
     "prompt_number": 9
    },
    {
     "cell_type": "code",
     "collapsed": false,
     "input": [
      "#Crop your data in the eV range on which you want to perform the VCA decomposition\n",
      "#If you enter float, it will be interpreted as eV, if you enter integer, it will be interpreted as pixel position\n",
      "specImg_cl.crop_spectrum(1.,2.)"
     ],
     "language": "python",
     "metadata": {},
     "outputs": [],
     "prompt_number": 16
    },
    {
     "cell_type": "code",
     "collapsed": false,
     "input": [
      "#Create a new folder to store your data\n",
      "vca_folder = path+\"vca_folder\"\n",
      "if not os.path.exists(vca_folder): os.makedirs(vca_folder)"
     ],
     "language": "python",
     "metadata": {},
     "outputs": [],
     "prompt_number": 8
    },
    {
     "cell_type": "heading",
     "level": 4,
     "metadata": {},
     "source": [
      "Estimation of the number of components you should keep (or the dimension of the subspace for the projection of the data)"
     ]
    },
    {
     "cell_type": "code",
     "collapsed": false,
     "input": [
      "specImg_cl.decomposition('svd', center_matrix=\"variables\")"
     ],
     "language": "python",
     "metadata": {},
     "outputs": [],
     "prompt_number": 10
    },
    {
     "cell_type": "code",
     "collapsed": false,
     "input": [
      "#Remove negative values of the data\n",
      "specImg_cl.data[specImg_cl.data < 0.] = 0."
     ],
     "language": "python",
     "metadata": {},
     "outputs": [],
     "prompt_number": 5
    },
    {
     "cell_type": "code",
     "collapsed": false,
     "input": [
      "#You can use the following function to get an idea how many dimensions you should keep on the subspace\n",
      "nbr_compo=eels.Nbr_compotokeep(specImg_cl, 99.95)"
     ],
     "language": "python",
     "metadata": {},
     "outputs": [],
     "prompt_number": 17
    },
    {
     "cell_type": "code",
     "collapsed": false,
     "input": [
      "#Or define it by looking at the screeplot (variance)\n",
      "specImg_cl.plot_explained_variance_ratio()"
     ],
     "language": "python",
     "metadata": {},
     "outputs": [],
     "prompt_number": 18
    },
    {
     "cell_type": "code",
     "collapsed": false,
     "input": [
      "nbr_compo=4"
     ],
     "language": "python",
     "metadata": {},
     "outputs": [],
     "prompt_number": 14
    },
    {
     "cell_type": "heading",
     "level": 4,
     "metadata": {},
     "source": [
      "VCA Decomposition"
     ]
    },
    {
     "cell_type": "code",
     "collapsed": false,
     "input": [
      "Ae=eels.VCA_decomposition(specImg_cl, nbr_compo, True, True, True)"
     ],
     "language": "python",
     "metadata": {},
     "outputs": [],
     "prompt_number": 17
    },
    {
     "cell_type": "heading",
     "level": 5,
     "metadata": {},
     "source": [
      "Plot and save Abundance maps / linescan"
     ]
    },
    {
     "cell_type": "code",
     "collapsed": false,
     "input": [
      "if np.size(specImg_cl.data.shape)==3:\n",
      "    Ae3D = Ae.reshape(specImg_cl.data.shape[0],specImg_cl.data.shape[1],nbr_compo)\n",
      "    i = 0\n",
      "    while i<nbr_compo:\n",
      "        fig, ax = plt.subplots()\n",
      "        im = ax.imshow(Ae3D[:,:,i], vmin=abs(Ae3D[:,:,i]).min(), vmax=abs(Ae3D[:,:,i]).max()) #cmap=cm.RdBu, \n",
      "        im.set_interpolation('bilinear')\n",
      "        cb = fig.colorbar(im, ax=ax)\n",
      "        fig.savefig(path+'abundance_'+str(nbr_compo)+'_'+str(i)+'.png')\n",
      "        i += 1\n",
      "    \n",
      "    #Save the maps in a rpl file to be imported back in DM for example\n",
      "    Ae3D_maps = specImg_cl.deepcopy()\n",
      "    Ae3D_maps.crop(2,0,nbr_compo)\n",
      "    Ae3D_maps.data=Ae3D\n",
      "    Ae3D_maps.save(\"abundance_maps_\"+str(nbr_compo)+\"_compo.rpl\")"
     ],
     "language": "python",
     "metadata": {},
     "outputs": [],
     "prompt_number": 37
    },
    {
     "cell_type": "code",
     "collapsed": false,
     "input": [
      "if np.size(specImg_cl.data.shape)==2:\n",
      "    i = 0\n",
      "    X_scale = np.empty(Ae[:,0].size,dtype=\"float32\")\n",
      "    w=0\n",
      "\n",
      "    scaling = 0.02\n",
      "\n",
      "    while w < Ae[:,0].size:\n",
      "        X_scale[w]=w\n",
      "        w +=1\n",
      "    \n",
      "    fig, ax = plt.subplots()\n",
      "    while i<nbr_compo:\n",
      "        plt.plot( X_scale[:], Ae[:,i]-scaling*i, linewidth=2.0, label=str(i))\n",
      "        plt.axhline(y=-scaling*i, xmin=0, xmax=1, hold=None)\n",
      "        i += 1\n",
      "\n",
      "    plt.legend( loc='upper right', numpoints = 1 )\n",
      "    plt.show()\n",
      "    savefig(path+'abundance_'+str(nbr_compo)+'.png')\n",
      "    np.savetxt(path+'abundance_'+str(nbr_compo)+'.txt', Ae)"
     ],
     "language": "python",
     "metadata": {},
     "outputs": [],
     "prompt_number": 32
    },
    {
     "cell_type": "heading",
     "level": 5,
     "metadata": {},
     "source": [
      "Plot and save endmembers profiles"
     ]
    },
    {
     "cell_type": "code",
     "collapsed": false,
     "input": [
      "s_est = np.dot(np.linalg.pinv(Ae),ut.hspy_to_2Dnp(specImg_cl))\n",
      "X_scale = np.empty(s_est[0,:].size,dtype=\"float32\")\n",
      "w=0\n",
      "\n",
      "scaling = 1\n",
      "\n",
      "while w < s_est[0,:].size:\n",
      "    X_scale[w]=w*specImg_cl.axes_manager[2].scale+specImg_cl.axes_manager[2].offset\n",
      "    w +=1\n",
      "\n",
      "i = 0\n",
      "fig = plt.figure()\n",
      "while i<nbr_compo:\n",
      "    plt.plot(X_scale[:], (s_est[i,:]-s_est[i,:].min())/(s_est[i,:].max()-s_est[i,:].min())-i*scaling, linewidth=2.0, label=str(i))\n",
      "    plt.axhline(y=-scaling*i, xmin=0, xmax=1, hold=None)\n",
      "    i = i +1\n",
      "#plt.yscale('log')\n",
      "plt.legend( loc='upper right', numpoints = 1 )\n",
      "plt.show()\n",
      "fig.savefig(path+'endmembers_'+str(nbr_compo)+'.png')\n",
      "np.savetxt(path+'endmembers_'+str(nbr_compo)+'.txt', s_est)"
     ],
     "language": "python",
     "metadata": {},
     "outputs": [],
     "prompt_number": 62
    },
    {
     "cell_type": "code",
     "collapsed": false,
     "input": [],
     "language": "python",
     "metadata": {},
     "outputs": []
    }
   ],
   "metadata": {}
  }
 ]
}