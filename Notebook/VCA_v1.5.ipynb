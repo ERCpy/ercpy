{
 "cells": [
  {
   "cell_type": "code",
   "execution_count": 7,
   "metadata": {
    "collapsed": false
   },
   "outputs": [],
   "source": [
    "#%matplotlib inline"
   ]
  },
  {
   "cell_type": "markdown",
   "metadata": {
    "collapsed": false
   },
   "source": [
    "# ERCPy: Spectral unmixing demonstration notebook"
   ]
  },
  {
   "cell_type": "markdown",
   "metadata": {
    "collapsed": false
   },
   "source": [
    "#### by Martial Duchamp\n",
    "Ernst Ruska-Centre for Microscopy and Spectroscopy with Electrons,\n",
    "Research Centre Juelich, Germany,\n",
    "m.duchamp@fz-juelich.de"
   ]
  },
  {
   "cell_type": "markdown",
   "metadata": {},
   "source": [
    "### Absract:\n",
    "The notebook demonstrates usage of the Vertex Component Anaylsis (VCA) spectral unmixing module of ERCPy package"
   ]
  },
  {
   "cell_type": "markdown",
   "metadata": {},
   "source": [
    "## Preamble:"
   ]
  },
  {
   "cell_type": "code",
   "execution_count": 19,
   "metadata": {
    "collapsed": false
   },
   "outputs": [],
   "source": [
    "from scipy.linalg import pinv\n",
    "import matplotlib.pyplot as plt\n",
    "import hyperspy.api as hs\n",
    "import os\n",
    "import ercpy\n",
    "import ercpy.utils as ut\n",
    "import ercpy.eelsedx as eels\n",
    "import hyperspy.api as hs"
   ]
  },
  {
   "cell_type": "markdown",
   "metadata": {},
   "source": [
    "#### Plotting outside the notebook to enable interactions with user:"
   ]
  },
  {
   "cell_type": "code",
   "execution_count": 5,
   "metadata": {
    "collapsed": false
   },
   "outputs": [
    {
     "name": "stdout",
     "output_type": "stream",
     "text": [
      "Populating the interactive namespace from numpy and matplotlib\n"
     ]
    },
    {
     "name": "stderr",
     "output_type": "stream",
     "text": [
      "WARNING: pylab import has clobbered these variables: ['pinv']\n",
      "`%matplotlib` prevents importing * from pylab and numpy\n"
     ]
    }
   ],
   "source": [
    "%pylab qt"
   ]
  },
  {
   "cell_type": "markdown",
   "metadata": {},
   "source": [
    "## Loading data:"
   ]
  },
  {
   "cell_type": "code",
   "execution_count": 11,
   "metadata": {
    "collapsed": false
   },
   "outputs": [],
   "source": [
    "path=\"/home/martial/Data/Esteem2/Mahdi_Halabi/Lamella_1_Al-rich/SI8/\""
   ]
  },
  {
   "cell_type": "code",
   "execution_count": 16,
   "metadata": {
    "collapsed": false
   },
   "outputs": [],
   "source": [
    "file_name=\"EELS Spectrum Image (low-loss).dm3\"\n",
    "specImg_ll = hs.load(path+file_name)"
   ]
  },
  {
   "cell_type": "code",
   "execution_count": 13,
   "metadata": {
    "collapsed": false
   },
   "outputs": [],
   "source": [
    "file_name=\"EELS Spectrum Image (high-loss) (dark ref corrected).dm3\"\n",
    "specImg_cl = hs.load(path+file_name)"
   ]
  },
  {
   "cell_type": "markdown",
   "metadata": {},
   "source": [
    "#### Plotting:"
   ]
  },
  {
   "cell_type": "code",
   "execution_count": 14,
   "metadata": {
    "collapsed": false
   },
   "outputs": [],
   "source": [
    "img = hs.load(path+\"/DF.dm3\")\n",
    "dim = img.axes_manager.shape\n",
    "imgBin = img.rebin((dim[0],dim[1]))"
   ]
  },
  {
   "cell_type": "code",
   "execution_count": 17,
   "metadata": {
    "collapsed": false
   },
   "outputs": [],
   "source": [
    "specImg_ll.plot(navigator=imgBin)"
   ]
  },
  {
   "cell_type": "code",
   "execution_count": 89,
   "metadata": {
    "collapsed": false
   },
   "outputs": [],
   "source": [
    "specImg_ll.align_zero_loss_peak(also_align=[specImg_cl], subpixel=True, print_stats=None)"
   ]
  },
  {
   "cell_type": "code",
   "execution_count": 9,
   "metadata": {
    "collapsed": false
   },
   "outputs": [],
   "source": [
    "specImg_cl.spikes_removal_tool()"
   ]
  },
  {
   "cell_type": "code",
   "execution_count": 16,
   "metadata": {
    "collapsed": false
   },
   "outputs": [],
   "source": [
    "#Crop your data in the eV range on which you want to perform the VCA decomposition\n",
    "#If you enter float, it will be interpreted as eV, if you enter integer, it will be interpreted as pixel position\n",
    "specImg_cl.crop_spectrum(1.,2.)"
   ]
  },
  {
   "cell_type": "code",
   "execution_count": 8,
   "metadata": {
    "collapsed": false
   },
   "outputs": [],
   "source": [
    "#Create a new folder to store your data\n",
    "vca_folder = path+\"vca_folder\"\n",
    "if not os.path.exists(vca_folder): os.makedirs(vca_folder)"
   ]
  },
  {
   "cell_type": "markdown",
   "metadata": {},
   "source": [
    "#### Estimation of the number of components you should keep (or the dimension of the subspace for the projection of the data)"
   ]
  },
  {
   "cell_type": "code",
   "execution_count": 10,
   "metadata": {
    "collapsed": false
   },
   "outputs": [],
   "source": [
    "specImg_cl.decomposition('svd', center_matrix=\"variables\")"
   ]
  },
  {
   "cell_type": "code",
   "execution_count": 5,
   "metadata": {
    "collapsed": false
   },
   "outputs": [],
   "source": [
    "#Remove negative values of the data\n",
    "specImg_cl.data[specImg_cl.data < 0.] = 0."
   ]
  },
  {
   "cell_type": "code",
   "execution_count": 21,
   "metadata": {
    "collapsed": false
   },
   "outputs": [
    {
     "ename": "AttributeError",
     "evalue": "The explained_variance_ratio attribute is `None`, did you forget to perform a PCA decomposition?",
     "output_type": "error",
     "traceback": [
      "\u001b[1;31m---------------------------------------------------------------------------\u001b[0m",
      "\u001b[1;31mAttributeError\u001b[0m                            Traceback (most recent call last)",
      "\u001b[1;32m<ipython-input-21-5b73672fb4ed>\u001b[0m in \u001b[0;36m<module>\u001b[1;34m()\u001b[0m\n\u001b[0;32m      1\u001b[0m \u001b[1;31m#You can use the following function to get an idea how many dimensions you should keep on the subspace\u001b[0m\u001b[1;33m\u001b[0m\u001b[1;33m\u001b[0m\u001b[0m\n\u001b[1;32m----> 2\u001b[1;33m \u001b[0mnbr_compo\u001b[0m\u001b[1;33m=\u001b[0m\u001b[0mercpy\u001b[0m\u001b[1;33m.\u001b[0m\u001b[0meelsedx\u001b[0m\u001b[1;33m.\u001b[0m\u001b[0mNbr_compotokeep\u001b[0m\u001b[1;33m(\u001b[0m\u001b[0mspecImg_cl\u001b[0m\u001b[1;33m,\u001b[0m \u001b[1;36m99.95\u001b[0m\u001b[1;33m)\u001b[0m\u001b[1;33m\u001b[0m\u001b[0m\n\u001b[0m",
      "\u001b[1;32m/usr/local/lib/python2.7/dist-packages/ercpy-0.1.0_dev-py2.7.egg/ercpy/eelsedx.pyc\u001b[0m in \u001b[0;36mNbr_compotokeep\u001b[1;34m(hyperspy_signal, Prcent_to_keep)\u001b[0m\n\u001b[0;32m     10\u001b[0m     \"\"\"\n\u001b[0;32m     11\u001b[0m     \u001b[0mi\u001b[0m \u001b[1;33m=\u001b[0m \u001b[1;36m0\u001b[0m\u001b[1;33m\u001b[0m\u001b[0m\n\u001b[1;32m---> 12\u001b[1;33m     \u001b[0msum_up_to\u001b[0m\u001b[1;33m=\u001b[0m\u001b[0mhyperspy_signal\u001b[0m\u001b[1;33m.\u001b[0m\u001b[0mget_explained_variance_ratio\u001b[0m\u001b[1;33m(\u001b[0m\u001b[1;33m)\u001b[0m\u001b[1;33m.\u001b[0m\u001b[0mdata\u001b[0m\u001b[1;33m[\u001b[0m\u001b[0mi\u001b[0m\u001b[1;33m]\u001b[0m\u001b[1;33m\u001b[0m\u001b[0m\n\u001b[0m\u001b[0;32m     13\u001b[0m \u001b[1;33m\u001b[0m\u001b[0m\n\u001b[0;32m     14\u001b[0m     \u001b[1;32mif\u001b[0m \u001b[1;33m(\u001b[0m\u001b[0mPrcent_to_keep\u001b[0m\u001b[1;33m<\u001b[0m\u001b[1;36m100\u001b[0m\u001b[1;33m)\u001b[0m\u001b[1;33m:\u001b[0m\u001b[1;33m\u001b[0m\u001b[0m\n",
      "\u001b[1;32m/usr/local/lib/python2.7/dist-packages/hyperspy/learn/mva.pyc\u001b[0m in \u001b[0;36mget_explained_variance_ratio\u001b[1;34m(self)\u001b[0m\n\u001b[0;32m    949\u001b[0m         \u001b[0mtarget\u001b[0m \u001b[1;33m=\u001b[0m \u001b[0mself\u001b[0m\u001b[1;33m.\u001b[0m\u001b[0mlearning_results\u001b[0m\u001b[1;33m\u001b[0m\u001b[0m\n\u001b[0;32m    950\u001b[0m         \u001b[1;32mif\u001b[0m \u001b[0mtarget\u001b[0m\u001b[1;33m.\u001b[0m\u001b[0mexplained_variance_ratio\u001b[0m \u001b[1;32mis\u001b[0m \u001b[0mNone\u001b[0m\u001b[1;33m:\u001b[0m\u001b[1;33m\u001b[0m\u001b[0m\n\u001b[1;32m--> 951\u001b[1;33m             raise AttributeError(\"The explained_variance_ratio attribute is \"\n\u001b[0m\u001b[0;32m    952\u001b[0m                                  \u001b[1;34m\"`None`, did you forget to perform a PCA \"\u001b[0m\u001b[1;33m\u001b[0m\u001b[0m\n\u001b[0;32m    953\u001b[0m                                  \"decomposition?\")\n",
      "\u001b[1;31mAttributeError\u001b[0m: The explained_variance_ratio attribute is `None`, did you forget to perform a PCA decomposition?"
     ]
    }
   ],
   "source": [
    "#You can use the following function to get an idea how many dimensions you should keep on the subspace\n",
    "nbr_compo=ercpy.eelsedx.Nbr_compotokeep(specImg_cl, 99.95)"
   ]
  },
  {
   "cell_type": "code",
   "execution_count": 18,
   "metadata": {
    "collapsed": false
   },
   "outputs": [],
   "source": [
    "#Or define it by looking at the screeplot (variance)\n",
    "specImg_cl.plot_explained_variance_ratio()"
   ]
  },
  {
   "cell_type": "code",
   "execution_count": 23,
   "metadata": {
    "collapsed": false
   },
   "outputs": [],
   "source": [
    "nbr_compo=4"
   ]
  },
  {
   "cell_type": "markdown",
   "metadata": {},
   "source": [
    "#### VCA Decomposition"
   ]
  },
  {
   "cell_type": "code",
   "execution_count": 24,
   "metadata": {
    "collapsed": false
   },
   "outputs": [
    {
     "ename": "KeyboardInterrupt",
     "evalue": "",
     "output_type": "error",
     "traceback": [
      "\u001b[1;31m---------------------------------------------------------------------------\u001b[0m",
      "\u001b[1;31mKeyboardInterrupt\u001b[0m                         Traceback (most recent call last)",
      "\u001b[1;32m<ipython-input-24-a47473326226>\u001b[0m in \u001b[0;36m<module>\u001b[1;34m()\u001b[0m\n\u001b[1;32m----> 1\u001b[1;33m \u001b[0mAe\u001b[0m\u001b[1;33m=\u001b[0m\u001b[0mercpy\u001b[0m\u001b[1;33m.\u001b[0m\u001b[0meelsedx\u001b[0m\u001b[1;33m.\u001b[0m\u001b[0mVCA_decomposition\u001b[0m\u001b[1;33m(\u001b[0m\u001b[0mspecImg_cl\u001b[0m\u001b[1;33m,\u001b[0m \u001b[0mnbr_compo\u001b[0m\u001b[1;33m,\u001b[0m \u001b[0mTrue\u001b[0m\u001b[1;33m,\u001b[0m \u001b[0mTrue\u001b[0m\u001b[1;33m,\u001b[0m \u001b[0mTrue\u001b[0m\u001b[1;33m)\u001b[0m\u001b[1;33m\u001b[0m\u001b[0m\n\u001b[0m",
      "\u001b[1;32m/usr/local/lib/python2.7/dist-packages/ercpy-0.1.0_dev-py2.7.egg/ercpy/eelsedx.pyc\u001b[0m in \u001b[0;36mVCA_decomposition\u001b[1;34m(hyperspy_signal, nbr_compo, centering, normalization, whitening)\u001b[0m\n\u001b[0;32m     57\u001b[0m \u001b[1;33m\u001b[0m\u001b[0m\n\u001b[0;32m     58\u001b[0m     \u001b[1;31m#Calculate the covariance matrix of T_data\u001b[0m\u001b[1;33m\u001b[0m\u001b[1;33m\u001b[0m\u001b[0m\n\u001b[1;32m---> 59\u001b[1;33m     \u001b[0msigma\u001b[0m \u001b[1;33m=\u001b[0m \u001b[0mnp\u001b[0m\u001b[1;33m.\u001b[0m\u001b[0mdot\u001b[0m\u001b[1;33m(\u001b[0m\u001b[0mT_data\u001b[0m\u001b[1;33m,\u001b[0m\u001b[0mnp\u001b[0m\u001b[1;33m.\u001b[0m\u001b[0mtranspose\u001b[0m\u001b[1;33m(\u001b[0m\u001b[0mT_data\u001b[0m\u001b[1;33m)\u001b[0m\u001b[1;33m)\u001b[0m\u001b[1;33m/\u001b[0m\u001b[0mT_data\u001b[0m\u001b[1;33m[\u001b[0m\u001b[1;33m:\u001b[0m\u001b[1;33m,\u001b[0m\u001b[1;36m1\u001b[0m\u001b[1;33m]\u001b[0m\u001b[1;33m.\u001b[0m\u001b[0msize\u001b[0m\u001b[1;33m\u001b[0m\u001b[0m\n\u001b[0m\u001b[0;32m     60\u001b[0m \u001b[1;33m\u001b[0m\u001b[0m\n\u001b[0;32m     61\u001b[0m     \u001b[0mU\u001b[0m\u001b[1;33m,\u001b[0m \u001b[0mS\u001b[0m\u001b[1;33m,\u001b[0m \u001b[0mV\u001b[0m \u001b[1;33m=\u001b[0m \u001b[0msvds\u001b[0m\u001b[1;33m(\u001b[0m\u001b[0msigma\u001b[0m\u001b[1;33m,\u001b[0m \u001b[0mk\u001b[0m\u001b[1;33m=\u001b[0m\u001b[0mnbr_compo\u001b[0m\u001b[1;33m,\u001b[0m \u001b[0mwhich\u001b[0m\u001b[1;33m=\u001b[0m\u001b[1;34m'LM'\u001b[0m\u001b[1;33m,\u001b[0m \u001b[0mreturn_singular_vectors\u001b[0m\u001b[1;33m=\u001b[0m\u001b[0mTrue\u001b[0m\u001b[1;33m)\u001b[0m\u001b[1;33m\u001b[0m\u001b[0m\n",
      "\u001b[1;31mKeyboardInterrupt\u001b[0m: "
     ]
    }
   ],
   "source": [
    "Ae=ercpy.eelsedx.VCA_decomposition(specImg_cl, nbr_compo, True, True, True)"
   ]
  },
  {
   "cell_type": "markdown",
   "metadata": {},
   "source": [
    "##### Plot and save Abundance maps / linescan"
   ]
  },
  {
   "cell_type": "code",
   "execution_count": 37,
   "metadata": {
    "collapsed": false
   },
   "outputs": [],
   "source": [
    "if np.size(specImg_cl.data.shape)==3:\n",
    "    Ae3D = Ae.reshape(specImg_cl.data.shape[0],specImg_cl.data.shape[1],nbr_compo)\n",
    "    i = 0\n",
    "    while i<nbr_compo:\n",
    "        fig, ax = plt.subplots()\n",
    "        im = ax.imshow(Ae3D[:,:,i], vmin=abs(Ae3D[:,:,i]).min(), vmax=abs(Ae3D[:,:,i]).max()) #cmap=cm.RdBu, \n",
    "        im.set_interpolation('bilinear')\n",
    "        cb = fig.colorbar(im, ax=ax)\n",
    "        fig.savefig(path+'abundance_'+str(nbr_compo)+'_'+str(i)+'.png')\n",
    "        i += 1\n",
    "    \n",
    "    #Save the maps in a rpl file to be imported back in DM for example\n",
    "    Ae3D_maps = specImg_cl.deepcopy()\n",
    "    Ae3D_maps.crop(2,0,nbr_compo)\n",
    "    Ae3D_maps.data=Ae3D\n",
    "    Ae3D_maps.save(\"abundance_maps_\"+str(nbr_compo)+\"_compo.rpl\")"
   ]
  },
  {
   "cell_type": "code",
   "execution_count": 32,
   "metadata": {
    "collapsed": false
   },
   "outputs": [],
   "source": [
    "if np.size(specImg_cl.data.shape)==2:\n",
    "    i = 0\n",
    "    X_scale = np.empty(Ae[:,0].size,dtype=\"float32\")\n",
    "    w=0\n",
    "\n",
    "    scaling = 0.02\n",
    "\n",
    "    while w < Ae[:,0].size:\n",
    "        X_scale[w]=w\n",
    "        w +=1\n",
    "    \n",
    "    fig, ax = plt.subplots()\n",
    "    while i<nbr_compo:\n",
    "        plt.plot( X_scale[:], Ae[:,i]-scaling*i, linewidth=2.0, label=str(i))\n",
    "        plt.axhline(y=-scaling*i, xmin=0, xmax=1, hold=None)\n",
    "        i += 1\n",
    "\n",
    "    plt.legend( loc='upper right', numpoints = 1 )\n",
    "    plt.show()\n",
    "    savefig(path+'abundance_'+str(nbr_compo)+'.png')\n",
    "    np.savetxt(path+'abundance_'+str(nbr_compo)+'.txt', Ae)"
   ]
  },
  {
   "cell_type": "markdown",
   "metadata": {},
   "source": [
    "##### Plot and save endmembers profiles"
   ]
  },
  {
   "cell_type": "code",
   "execution_count": 62,
   "metadata": {
    "collapsed": false
   },
   "outputs": [],
   "source": [
    "s_est = np.dot(np.linalg.pinv(Ae),ut.hspy_to_2Dnp(specImg_cl))\n",
    "X_scale = np.empty(s_est[0,:].size,dtype=\"float32\")\n",
    "w=0\n",
    "\n",
    "scaling = 1\n",
    "\n",
    "while w < s_est[0,:].size:\n",
    "    X_scale[w]=w*specImg_cl.axes_manager[2].scale+specImg_cl.axes_manager[2].offset\n",
    "    w +=1\n",
    "\n",
    "i = 0\n",
    "fig = plt.figure()\n",
    "while i<nbr_compo:\n",
    "    plt.plot(X_scale[:], (s_est[i,:]-s_est[i,:].min())/(s_est[i,:].max()-s_est[i,:].min())-i*scaling, linewidth=2.0, label=str(i))\n",
    "    plt.axhline(y=-scaling*i, xmin=0, xmax=1, hold=None)\n",
    "    i = i +1\n",
    "#plt.yscale('log')\n",
    "plt.legend( loc='upper right', numpoints = 1 )\n",
    "plt.show()\n",
    "fig.savefig(path+'endmembers_'+str(nbr_compo)+'.png')\n",
    "np.savetxt(path+'endmembers_'+str(nbr_compo)+'.txt', s_est)"
   ]
  },
  {
   "cell_type": "code",
   "execution_count": 25,
   "metadata": {
    "collapsed": false
   },
   "outputs": [
    {
     "ename": "SyntaxError",
     "evalue": "EOL while scanning string literal (<ipython-input-25-d0397cfc9c80>, line 1)",
     "output_type": "error",
     "traceback": [
      "\u001b[1;36m  File \u001b[1;32m\"<ipython-input-25-d0397cfc9c80>\"\u001b[1;36m, line \u001b[1;32m1\u001b[0m\n\u001b[1;33m    ercpy.utils.remove(\"VCA_v1.5ipynb)\u001b[0m\n\u001b[1;37m                                     ^\u001b[0m\n\u001b[1;31mSyntaxError\u001b[0m\u001b[1;31m:\u001b[0m EOL while scanning string literal\n"
     ]
    }
   ],
   "source": [
    "ercpy.utils.remove_output(\"VCA_v1.5ipynb)"
   ]
  },
  {
   "cell_type": "code",
   "execution_count": null,
   "metadata": {
    "collapsed": true
   },
   "outputs": [],
   "source": []
  }
 ],
 "metadata": {
  "kernelspec": {
   "display_name": "Python 2",
   "language": "python",
   "name": "python2"
  },
  "language_info": {
   "codemirror_mode": {
    "name": "ipython",
    "version": 2
   },
   "file_extension": ".py",
   "mimetype": "text/x-python",
   "name": "python",
   "nbconvert_exporter": "python",
   "pygments_lexer": "ipython2",
   "version": "2.7.6"
  }
 },
 "nbformat": 4,
 "nbformat_minor": 0
}
